{
 "cells": [
  {
   "cell_type": "code",
   "execution_count": 1,
   "metadata": {
    "ExecuteTime": {
     "end_time": "2020-12-01T08:52:21.458092Z",
     "start_time": "2020-12-01T08:52:20.771927Z"
    }
   },
   "outputs": [],
   "source": [
    "%matplotlib inline"
   ]
  },
  {
   "cell_type": "code",
   "execution_count": 2,
   "metadata": {
    "ExecuteTime": {
     "end_time": "2020-12-01T08:52:24.301119Z",
     "start_time": "2020-12-01T08:52:21.460863Z"
    }
   },
   "outputs": [],
   "source": [
    "import time\n",
    "\n",
    "import gluoncv as gcv\n",
    "from gluoncv.utils import try_import_cv2\n",
    "cv2 = try_import_cv2()\n",
    "from gluoncv.data.transforms.pose import detector_to_simple_pose, heatmap_to_coord\n",
    "import mxnet as mx"
   ]
  },
  {
   "cell_type": "code",
   "execution_count": 3,
   "metadata": {
    "ExecuteTime": {
     "end_time": "2020-12-01T08:52:24.318296Z",
     "start_time": "2020-12-01T08:52:24.305065Z"
    }
   },
   "outputs": [
    {
     "data": {
      "text/plain": [
       "'0.8.0'"
      ]
     },
     "execution_count": 3,
     "metadata": {},
     "output_type": "execute_result"
    }
   ],
   "source": [
    "gcv.__version__"
   ]
  },
  {
   "cell_type": "code",
   "execution_count": 4,
   "metadata": {
    "ExecuteTime": {
     "end_time": "2020-12-01T08:52:24.909840Z",
     "start_time": "2020-12-01T08:52:24.323099Z"
    }
   },
   "outputs": [],
   "source": [
    "# Load the model\n",
    "detector = gcv.model_zoo.get_model('yolo3_mobilenet1.0_coco', pretrained=True)\n",
    "pose_net = gcv.model_zoo.get_model('mobile_pose_mobilenetv3_small', pretrained=True)\n",
    "detector.reset_class([\"person\"], reuse_weights=['person'])"
   ]
  },
  {
   "cell_type": "code",
   "execution_count": 5,
   "metadata": {
    "ExecuteTime": {
     "end_time": "2020-12-01T08:52:26.661564Z",
     "start_time": "2020-12-01T08:52:24.911659Z"
    }
   },
   "outputs": [],
   "source": [
    "# Load the webcam handler\n",
    "cap = cv2.VideoCapture(0)\n",
    "time.sleep(1) ### letting the camera autofocus"
   ]
  },
  {
   "cell_type": "code",
   "execution_count": 6,
   "metadata": {
    "ExecuteTime": {
     "end_time": "2020-12-01T08:52:46.441655Z",
     "start_time": "2020-12-01T08:52:26.663564Z"
    }
   },
   "outputs": [],
   "source": [
    "axes = None\n",
    "NUM_FRAMES = 60 # you can change this\n",
    "for i in range(NUM_FRAMES):\n",
    "    # Load frame from the camera\n",
    "    ret, frame = cap.read()\n",
    "\n",
    "    if ret:\n",
    "        # Image pre-processing\n",
    "        frame = mx.nd.array(cv2.cvtColor(frame, cv2.COLOR_BGR2RGB)).astype('uint8')\n",
    "        rgb_nd, frame = gcv.data.transforms.presets.ssd.transform_test(frame, short=512, max_size=700)\n",
    "\n",
    "        # Run frame through network\n",
    "        class_IDs, scores, bounding_boxs = detector(rgb_nd)\n",
    "        pose_input, upscale_bbox = detector_to_simple_pose(frame, class_IDs, scores, bounding_boxs)\n",
    "        \n",
    "        if pose_input is not None:\n",
    "            predicted_heatmap = pose_net(pose_input)\n",
    "            pred_coords, confidence = heatmap_to_coord(predicted_heatmap, upscale_bbox)\n",
    "\n",
    "            # Visualize result\n",
    "            img = gcv.utils.viz.cv_plot_keypoints(frame, pred_coords, confidence,\n",
    "                                  class_IDs, bounding_boxs, scores,\n",
    "                                  box_thresh=0.5, keypoint_thresh=0.2)\n",
    "            gcv.utils.viz.cv_plot_image(img)\n",
    "            cv2.waitKey(1)\n",
    "        else:\n",
    "            break\n",
    "    else:\n",
    "        break"
   ]
  },
  {
   "cell_type": "code",
   "execution_count": 7,
   "metadata": {
    "ExecuteTime": {
     "end_time": "2020-12-01T08:52:46.822214Z",
     "start_time": "2020-12-01T08:52:46.443496Z"
    }
   },
   "outputs": [],
   "source": [
    "cap.release()\n",
    "cv2.destroyAllWindows()"
   ]
  },
  {
   "cell_type": "code",
   "execution_count": null,
   "metadata": {},
   "outputs": [],
   "source": []
  }
 ],
 "metadata": {
  "kernelspec": {
   "display_name": "Python 3",
   "language": "python",
   "name": "python3"
  },
  "language_info": {
   "codemirror_mode": {
    "name": "ipython",
    "version": 3
   },
   "file_extension": ".py",
   "mimetype": "text/x-python",
   "name": "python",
   "nbconvert_exporter": "python",
   "pygments_lexer": "ipython3",
   "version": "3.7.4"
  }
 },
 "nbformat": 4,
 "nbformat_minor": 1
}
